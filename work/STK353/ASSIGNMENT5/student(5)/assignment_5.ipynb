{
 "cells": [
  {
   "cell_type": "code",
   "execution_count": 296,
   "id": "19842bb4",
   "metadata": {
    "deletable": false,
    "editable": false
   },
   "outputs": [],
   "source": [
    "# Initialize Otter\n",
    "import otter\n",
    "grader = otter.Notebook(\"assignment_5.ipynb\")"
   ]
  },
  {
   "cell_type": "markdown",
   "id": "aa353719",
   "metadata": {},
   "source": [
    "# STK 353\n",
    "\n",
    "## Assignment 5: Text Mining\n",
    "\n",
    "### Total points: 35\n",
    "\n",
    "- Submission deadline: 23:00, Friday 28 October 2021.\n",
    "- This assignment is individual work.\n",
    "- Some of the tests are hidden, and some are visible in order to guide you.\n",
    "- The graphs will be manually assessed.\n",
    "- **NB**: review_data1 will be used for Question 5 - 14"
   ]
  },
  {
   "cell_type": "markdown",
   "id": "ba161b28",
   "metadata": {},
   "source": [
    "## Load the required packages"
   ]
  },
  {
   "cell_type": "code",
   "execution_count": 297,
   "id": "8e932cfb",
   "metadata": {},
   "outputs": [],
   "source": [
    "import re\n",
    "\n",
    "import pandas as pd\n",
    "import numpy as np\n",
    "import matplotlib.pyplot as plt\n",
    "%matplotlib inline\n",
    "\n",
    "from sklearn.feature_extraction.text import CountVectorizer\n",
    "from collections import Counter\n",
    "from nltk.tokenize import word_tokenize\n",
    "from wordcloud import WordCloud, ImageColorGenerator\n",
    "from nltk.corpus import stopwords\n",
    "from PIL import Image"
   ]
  },
  {
   "cell_type": "markdown",
   "id": "fde29cd4",
   "metadata": {
    "deletable": false,
    "editable": false
   },
   "source": [
    "### Question 1 [2]\n",
    "\n",
    "Consider the sample_text1 string given below. Use the Python regex (re) package to search and return the word 'Ontario' (case sensitive).\n",
    "\n",
    "- Assign the pattern to the variable 'pat_1'\n",
    "- Assign the regex search to the variable 'match_1'\n",
    "\n",
    "<!--\n",
    "BEGIN QUESTION\n",
    "name: q1\n",
    "points: \n",
    "    each: 1\n",
    "-->"
   ]
  },
  {
   "cell_type": "code",
   "execution_count": 287,
   "id": "52b01f00",
   "metadata": {},
   "outputs": [
    {
     "name": "stdout",
     "output_type": "stream",
     "text": [
      "Ontario\n",
      "<re.Match object; span=(61, 68), match='Ontario'>\n"
     ]
    }
   ],
   "source": [
    "sample_text1 = 'I am a student from the University of Alabama. I \\\n",
    "was born in Ontario, Canada and I am a huge fan of the United\\\n",
    "States. I am going to get a degree in Philosophy to improve\\\n",
    "my chances of becoming a Philosophy professor. I have been\\\n",
    "working towards this goal for 4 years. I am currently enrolled\\\n",
    "in a PhD program. It is very difficult, but I am confident that\\\n",
    "it will be a good decision'\n",
    "\n",
    "pat_1 = r'Ontario'\n",
    "match_1 = re.search(pat_1,sample_text1)\n",
    "\n",
    "print(pat_1)\n",
    "print(match_1) #Hint: this should be an object"
   ]
  },
  {
   "cell_type": "code",
   "execution_count": 5,
   "id": "bb27ba73",
   "metadata": {
    "deletable": false,
    "editable": false
   },
   "outputs": [
    {
     "data": {
      "text/html": [
       "<p><strong><pre style='display: inline;'>q1</pre></strong> passed!</p>"
      ],
      "text/plain": [
       "q1 results: All test cases passed!"
      ]
     },
     "execution_count": 5,
     "metadata": {},
     "output_type": "execute_result"
    }
   ],
   "source": [
    "grader.check(\"q1\")"
   ]
  },
  {
   "cell_type": "markdown",
   "id": "0dad70e8",
   "metadata": {
    "deletable": false,
    "editable": false
   },
   "source": [
    "### Question 2a [1]\n",
    "\n",
    "\n",
    "Use the sample_text2 string given below. Use the Python regex (re) package to search and return the student number in the text.\n",
    "\n",
    "- Assign the pattern to the variable 'pat_2a'\n",
    "- Assign the regex search for the student number to the variable 'match_2a'\n",
    "\n",
    "Hint: Pay close attention to the format of the student number.\n",
    "\n",
    "<!--\n",
    "BEGIN QUESTION\n",
    "name: q2a\n",
    "points: \n",
    "    each: 1\n",
    "-->"
   ]
  },
  {
   "cell_type": "code",
   "execution_count": 298,
   "id": "fe91c409",
   "metadata": {},
   "outputs": [],
   "source": [
    "sample_text2 = 'I am a student from the University of Pretoria.\\\n",
    "My student number is u12345678 and you can call me on 123-456-7890'\n",
    "\n",
    "pat_2a = r'u[0-9]+'\n",
    "match_2a = re.search(pat_2a,sample_text2)"
   ]
  },
  {
   "cell_type": "code",
   "execution_count": 30,
   "id": "6a802609",
   "metadata": {
    "deletable": false,
    "editable": false
   },
   "outputs": [
    {
     "data": {
      "text/html": [
       "<p><strong><pre style='display: inline;'>q2a</pre></strong> passed!</p>"
      ],
      "text/plain": [
       "q2a results: All test cases passed!"
      ]
     },
     "execution_count": 30,
     "metadata": {},
     "output_type": "execute_result"
    }
   ],
   "source": [
    "grader.check(\"q2a\")"
   ]
  },
  {
   "cell_type": "markdown",
   "id": "079a5212",
   "metadata": {
    "deletable": false,
    "editable": false
   },
   "source": [
    "### Question 2b [1]\n",
    "\n",
    "Use the sample_text2 from Question 2a. Use the Python regex (re) package to search and return the cellphone number in the text.\n",
    "\n",
    "- Assign the pattern to the variable 'pat_2b'\n",
    "- Assign the regex search for the cellphone number to the variable 'match_2b'\n",
    "\n",
    "Hint: Pay close attention to the format of the cellphone number.\n",
    "\n",
    "<!--\n",
    "BEGIN QUESTION\n",
    "name: q2b\n",
    "points: \n",
    "    each: 1\n",
    "-->"
   ]
  },
  {
   "cell_type": "code",
   "execution_count": 299,
   "id": "f20eff95",
   "metadata": {},
   "outputs": [],
   "source": [
    "pat_2b = r'[0-9]{3}\\-[0-9]{3}\\-[0-9]{4}'\n",
    "match_2b = re.search(pat_2b,sample_text2)"
   ]
  },
  {
   "cell_type": "code",
   "execution_count": 33,
   "id": "3cb9877b",
   "metadata": {
    "deletable": false,
    "editable": false
   },
   "outputs": [
    {
     "data": {
      "text/html": [
       "<p><strong><pre style='display: inline;'>q2b</pre></strong> passed!</p>"
      ],
      "text/plain": [
       "q2b results: All test cases passed!"
      ]
     },
     "execution_count": 33,
     "metadata": {},
     "output_type": "execute_result"
    }
   ],
   "source": [
    "grader.check(\"q2b\")"
   ]
  },
  {
   "cell_type": "markdown",
   "id": "a3617525",
   "metadata": {
    "deletable": false,
    "editable": false
   },
   "source": [
    "### Question 3 [1]\n",
    "\n",
    "Use the sample_text3 given below. Use the Python regex (re) package to find only email addresses that are valid. A valid email must have at least 2 characters before and 2 characters after the @ sign.\n",
    "\n",
    "- Assign the pattern to the variable 'pat_3'\n",
    "- Assign the regex search to the variable 'match_3' \n",
    "\n",
    "<!--\n",
    "BEGIN QUESTION\n",
    "name: q3\n",
    "points: \n",
    "    each: 1\n",
    "-->"
   ]
  },
  {
   "cell_type": "code",
   "execution_count": 300,
   "id": "f29e6144",
   "metadata": {},
   "outputs": [
    {
     "name": "stdout",
     "output_type": "stream",
     "text": [
      "[a-zA-Z][a-zA-Z0-9\\.\\_]+[\\@][a-zA-Z]{2,}\n",
      "['john.doe@somecompany', 'jane_doe124@gmail']\n"
     ]
    }
   ],
   "source": [
    "sample_text3 = 'Hi my name is John and email address is john.doe@somecompany.co.uk and my friend\\'s \\\n",
    "email is jane_doe124@gmail.com. But these are not valid emails: j@p and jj@p and j@pp'\n",
    "\n",
    "pat_3 = r'[a-zA-Z][a-zA-Z0-9\\.\\_]+[\\@][a-zA-Z]{2,}'\n",
    "match_3 = re.findall(pat_3,sample_text3)\n",
    "\n",
    "print(pat_3)\n",
    "print(match_3)"
   ]
  },
  {
   "cell_type": "code",
   "execution_count": 37,
   "id": "23520055",
   "metadata": {
    "deletable": false,
    "editable": false
   },
   "outputs": [
    {
     "data": {
      "text/html": [
       "<p><strong><pre style='display: inline;'>q3</pre></strong> passed!</p>"
      ],
      "text/plain": [
       "q3 results: All test cases passed!"
      ]
     },
     "execution_count": 37,
     "metadata": {},
     "output_type": "execute_result"
    }
   ],
   "source": [
    "grader.check(\"q3\")"
   ]
  },
  {
   "cell_type": "markdown",
   "id": "90b9f727",
   "metadata": {
    "deletable": false,
    "editable": false
   },
   "source": [
    "### Question 4a [1]\n",
    "\n",
    "Use the sample_text4 given below. Use Python string methods to split the text into three separate sentences. \n",
    "\n",
    "- Assign the new list to the variable 'sent_list'\n",
    "\n",
    "<!--\n",
    "BEGIN QUESTION\n",
    "name: q4a\n",
    "points: \n",
    "    each: 1\n",
    "-->"
   ]
  },
  {
   "cell_type": "code",
   "execution_count": 301,
   "id": "cd1ae353",
   "metadata": {},
   "outputs": [
    {
     "name": "stdout",
     "output_type": "stream",
     "text": [
      "['We are attacking on their left flank but are losing many men', 'We cannot see the enemy army, nothing else to report', 'We are ready to attack but are waiting for your orders.']\n"
     ]
    }
   ],
   "source": [
    "sample_text4 = 'We are attacking on their left flank but are losing many men.\\\n",
    "We cannot see the enemy army, nothing else to report.\\\n",
    "We are ready to attack but are waiting for your orders.'\n",
    "sent_list = sample_text4.split('.',2)\n",
    "print(sent_list)"
   ]
  },
  {
   "cell_type": "code",
   "execution_count": 285,
   "id": "61efe397",
   "metadata": {
    "deletable": false,
    "editable": false
   },
   "outputs": [
    {
     "data": {
      "text/html": [
       "<p><strong><pre style='display: inline;'>q4a</pre></strong> passed!</p>"
      ],
      "text/plain": [
       "q4a results: All test cases passed!"
      ]
     },
     "execution_count": 285,
     "metadata": {},
     "output_type": "execute_result"
    }
   ],
   "source": [
    "grader.check(\"q4a\")"
   ]
  },
  {
   "cell_type": "markdown",
   "id": "d432df7c",
   "metadata": {
    "deletable": false,
    "editable": false
   },
   "source": [
    "### Question 4b [1]\n",
    "\n",
    "Use the second sentence in 'sent_list' (Question 4 a) and split the sentence even further at the comma.\n",
    "\n",
    "- Assign the new list to the variable 'new_list'\n",
    "\n",
    "<!--\n",
    "BEGIN QUESTION\n",
    "name: q4b\n",
    "points: \n",
    "    each: 1\n",
    "-->"
   ]
  },
  {
   "cell_type": "code",
   "execution_count": 302,
   "id": "eef5a615",
   "metadata": {},
   "outputs": [
    {
     "name": "stdout",
     "output_type": "stream",
     "text": [
      "['We cannot see the enemy army', ' nothing else to report']\n"
     ]
    }
   ],
   "source": [
    "sent_list = sent_list[1]\n",
    "new_list = sent_list.split(',')\n",
    "print(new_list)"
   ]
  },
  {
   "cell_type": "code",
   "execution_count": 303,
   "id": "4f23639a",
   "metadata": {
    "deletable": false,
    "editable": false
   },
   "outputs": [
    {
     "data": {
      "text/html": [
       "<p><strong><pre style='display: inline;'>q4b</pre></strong> passed!</p>"
      ],
      "text/plain": [
       "q4b results: All test cases passed!"
      ]
     },
     "execution_count": 303,
     "metadata": {},
     "output_type": "execute_result"
    }
   ],
   "source": [
    "grader.check(\"q4b\")"
   ]
  },
  {
   "cell_type": "markdown",
   "id": "54f02516",
   "metadata": {},
   "source": [
    "The following questions are based on the review_data1.csv data set:"
   ]
  },
  {
   "cell_type": "markdown",
   "id": "4834545c",
   "metadata": {
    "deletable": false,
    "editable": false
   },
   "source": [
    "### Question 5 - Load the data [1]\n",
    "\n",
    "The data can be found in 'review_data1.csv'\n",
    "\n",
    "- Read the data into a dataframe and call it '**reviews**'\n",
    "- Make the column 'review' a list and call it '**review_text**'\n",
    "- Get the total number of reviews and call it '**review_num**'\n",
    "- **Important**: Make sure review_data1.csv and wine1.png is saved in the **same** directory as your notebook.\n",
    "\n",
    "**Note**: Pay attention to the variable names specified. It is important that you keep to the names specified.\n",
    "\n",
    "<!--\n",
    "BEGIN QUESTION\n",
    "name: q5\n",
    "points: \n",
    "    each: 0.5\n",
    "-->"
   ]
  },
  {
   "cell_type": "code",
   "execution_count": 304,
   "id": "899871b6",
   "metadata": {},
   "outputs": [
    {
     "name": "stdout",
     "output_type": "stream",
     "text": [
      "264\n"
     ]
    }
   ],
   "source": [
    "df = pd.read_csv('review_data1.csv')\n",
    "reviews = pd.DataFrame(df)\n",
    "review_text = reviews['review'].tolist()\n",
    "review_num = review_text.__len__()\n",
    "print(review_num)"
   ]
  },
  {
   "cell_type": "code",
   "execution_count": 305,
   "id": "be281dbb",
   "metadata": {
    "deletable": false,
    "editable": false
   },
   "outputs": [
    {
     "data": {
      "text/html": [
       "<p><strong><pre style='display: inline;'>q5</pre></strong> passed!</p>"
      ],
      "text/plain": [
       "q5 results: All test cases passed!"
      ]
     },
     "execution_count": 305,
     "metadata": {},
     "output_type": "execute_result"
    }
   ],
   "source": [
    "grader.check(\"q5\")"
   ]
  },
  {
   "cell_type": "markdown",
   "id": "861825d8",
   "metadata": {
    "deletable": false,
    "editable": false
   },
   "source": [
    "### Question 6 - Extract the review date and time [2]\n",
    "\n",
    "The reviews contain the date and time the review was made, for example 2017-09-23T02:53:08Z \n",
    "\n",
    "For the 7th review:\n",
    "\n",
    "- Use regular expressions to find the date and time\n",
    "- Assign the date, as a string, to the variable 'review_date_q6'\n",
    "- Assign the time, as a string, to the variable 'review_time_q6', include the time separator and zero hour offset.\n",
    "\n",
    "**Hint**: Pay close attention to the indexing of the reviews.\n",
    "\n",
    "<!--\n",
    "BEGIN QUESTION\n",
    "name: q6\n",
    "points: \n",
    "    each: 1\n",
    "-->"
   ]
  },
  {
   "cell_type": "code",
   "execution_count": 306,
   "id": "f14777ae",
   "metadata": {},
   "outputs": [
    {
     "name": "stdout",
     "output_type": "stream",
     "text": [
      "2017-09-06\n",
      "04:49:34\n"
     ]
    }
   ],
   "source": [
    "date_p = r'20[0-9]{2}\\-[0-9]{2}\\-[0-9]{2}'\n",
    "time_p = r'[0-9]{2}\\:[0-9]{2}\\:[0-9]{2}'\n",
    "review_date_q6 = re.findall(date_p,review_text[6])\n",
    "review_time_q6 = re.findall(time_p,review_text[6])\n",
    "review_date_q6 = str(review_date_q6[0])\n",
    "review_time_q6 = str(review_time_q6[0])\n",
    "print(review_date_q6)\n",
    "print(review_time_q6)"
   ]
  },
  {
   "cell_type": "code",
   "execution_count": 34,
   "id": "c05ddbf6",
   "metadata": {
    "deletable": false,
    "editable": false
   },
   "outputs": [
    {
     "data": {
      "text/html": [
       "<p><strong><pre style='display: inline;'>q6</pre></strong> passed!</p>"
      ],
      "text/plain": [
       "q6 results: All test cases passed!"
      ]
     },
     "execution_count": 34,
     "metadata": {},
     "output_type": "execute_result"
    }
   ],
   "source": [
    "grader.check(\"q6\")"
   ]
  },
  {
   "cell_type": "markdown",
   "id": "8b1a580a",
   "metadata": {
    "deletable": false,
    "editable": false
   },
   "source": [
    "### Question 7 - Remove the review date and time from the review [1]\n",
    "\n",
    "This is the compliment of question 6. \n",
    "\n",
    "For the 16th review:\n",
    "\n",
    "- Use regular expressions to find the date and time\n",
    "- Remove the date and time from the review, as a string, and assign it to the variable 'review_content'\n",
    "- Remove all leading and trailing whitespaces.\n",
    "- Also remove the time separator and zero hour offset.\n",
    "\n",
    "<!--\n",
    "BEGIN QUESTION\n",
    "name: q7\n",
    "points: \n",
    "    each: 1\n",
    "-->"
   ]
  },
  {
   "cell_type": "code",
   "execution_count": 307,
   "id": "7ea96436",
   "metadata": {},
   "outputs": [
    {
     "name": "stdout",
     "output_type": "stream",
     "text": [
      "love it wouldnt mind drinking more\n"
     ]
    }
   ],
   "source": [
    "dateAndTime = r'20[0-9]{2}\\-[0-9]{2}\\-[0-9]{2}T[0-9]{2}\\:[0-9]{2}\\:[0-9]{2}Z'\n",
    "review_content = re.sub(dateAndTime,\"\",review_text[15])\n",
    "review_content = review_content.strip()\n",
    "print(review_content)"
   ]
  },
  {
   "cell_type": "code",
   "execution_count": 18,
   "id": "1eb8b9b8",
   "metadata": {
    "deletable": false,
    "editable": false
   },
   "outputs": [
    {
     "data": {
      "text/html": [
       "<p><strong><pre style='display: inline;'>q7</pre></strong> passed!</p>"
      ],
      "text/plain": [
       "q7 results: All test cases passed!"
      ]
     },
     "execution_count": 18,
     "metadata": {},
     "output_type": "execute_result"
    }
   ],
   "source": [
    "grader.check(\"q7\")"
   ]
  },
  {
   "cell_type": "markdown",
   "id": "3166ac42",
   "metadata": {
    "deletable": false,
    "editable": false
   },
   "source": [
    "### Question 8 - Add reviews, date and time as columns in the data frame [3]\n",
    "\n",
    "Repeat question 6 & 7 for **all** data points.\n",
    "\n",
    "- Change the column 'review' to *not* contain the review date and time. \n",
    "    - Also strip the leading and trailing whitespaces\n",
    "    - Remove the time separator and zero hour offset.\n",
    "- Add a column 'review_date' containing the review date in the format 'YYYY-MM-DD'\n",
    "- Add a column 'review_time' containing the review time in the format 'HH:MM:SS'\n",
    "\n",
    "**Hint**: The columns 'review_date' and 'review_time' must *not* contain the time separator and zero hour offset.\n",
    "\n",
    "<!--\n",
    "BEGIN QUESTION\n",
    "name: q8\n",
    "points: \n",
    "    each: 1\n",
    "-->"
   ]
  },
  {
   "cell_type": "code",
   "execution_count": 308,
   "id": "03e1291d",
   "metadata": {},
   "outputs": [
    {
     "data": {
      "text/html": [
       "<div>\n",
       "<style scoped>\n",
       "    .dataframe tbody tr th:only-of-type {\n",
       "        vertical-align: middle;\n",
       "    }\n",
       "\n",
       "    .dataframe tbody tr th {\n",
       "        vertical-align: top;\n",
       "    }\n",
       "\n",
       "    .dataframe thead th {\n",
       "        text-align: right;\n",
       "    }\n",
       "</style>\n",
       "<table border=\"1\" class=\"dataframe\">\n",
       "  <thead>\n",
       "    <tr style=\"text-align: right;\">\n",
       "      <th></th>\n",
       "      <th>review</th>\n",
       "      <th>rating</th>\n",
       "      <th>review_date</th>\n",
       "      <th>review_time</th>\n",
       "    </tr>\n",
       "  </thead>\n",
       "  <tbody>\n",
       "    <tr>\n",
       "      <th>0</th>\n",
       "      <td>It's really smooth but the taste isn't so good...</td>\n",
       "      <td>0</td>\n",
       "      <td>2017-09-02</td>\n",
       "      <td>07:00:09</td>\n",
       "    </tr>\n",
       "    <tr>\n",
       "      <th>1</th>\n",
       "      <td>Is ok..need more intense on flavor. I am a bit...</td>\n",
       "      <td>0</td>\n",
       "      <td>2017-08-05</td>\n",
       "      <td>04:28:58</td>\n",
       "    </tr>\n",
       "    <tr>\n",
       "      <th>2</th>\n",
       "      <td>I would give one more star if it came clean on...</td>\n",
       "      <td>0</td>\n",
       "      <td>2017-12-15</td>\n",
       "      <td>00:02:24</td>\n",
       "    </tr>\n",
       "    <tr>\n",
       "      <th>3</th>\n",
       "      <td>Definitely not worth the hassle, don't waste y...</td>\n",
       "      <td>0</td>\n",
       "      <td>2018-01-02</td>\n",
       "      <td>20:20:01</td>\n",
       "    </tr>\n",
       "    <tr>\n",
       "      <th>4</th>\n",
       "      <td>Absolutely love, love, love it!!</td>\n",
       "      <td>1</td>\n",
       "      <td>2017-09-20</td>\n",
       "      <td>01:18:35</td>\n",
       "    </tr>\n",
       "    <tr>\n",
       "      <th>...</th>\n",
       "      <td>...</td>\n",
       "      <td>...</td>\n",
       "      <td>...</td>\n",
       "      <td>...</td>\n",
       "    </tr>\n",
       "    <tr>\n",
       "      <th>259</th>\n",
       "      <td>Bought this for my parents. They said it was a...</td>\n",
       "      <td>0</td>\n",
       "      <td>2017-07-28</td>\n",
       "      <td>12:38:56</td>\n",
       "    </tr>\n",
       "    <tr>\n",
       "      <th>260</th>\n",
       "      <td>Best tasteing and defenetly the smoothest arou...</td>\n",
       "      <td>1</td>\n",
       "      <td>2017-09-20</td>\n",
       "      <td>01:18:35</td>\n",
       "    </tr>\n",
       "    <tr>\n",
       "      <th>261</th>\n",
       "      <td>Not personally into pre made mixes, but bought...</td>\n",
       "      <td>1</td>\n",
       "      <td>2017-08-15</td>\n",
       "      <td>03:05:22</td>\n",
       "    </tr>\n",
       "    <tr>\n",
       "      <th>262</th>\n",
       "      <td>Taste Great portion</td>\n",
       "      <td>1</td>\n",
       "      <td>2017-09-20</td>\n",
       "      <td>01:18:35</td>\n",
       "    </tr>\n",
       "    <tr>\n",
       "      <th>263</th>\n",
       "      <td>Does not taste like habaneros what so ever. Ve...</td>\n",
       "      <td>0</td>\n",
       "      <td>2017-08-05</td>\n",
       "      <td>04:28:58</td>\n",
       "    </tr>\n",
       "  </tbody>\n",
       "</table>\n",
       "<p>264 rows × 4 columns</p>\n",
       "</div>"
      ],
      "text/plain": [
       "                                                review  rating review_date  \\\n",
       "0    It's really smooth but the taste isn't so good...       0  2017-09-02   \n",
       "1    Is ok..need more intense on flavor. I am a bit...       0  2017-08-05   \n",
       "2    I would give one more star if it came clean on...       0  2017-12-15   \n",
       "3    Definitely not worth the hassle, don't waste y...       0  2018-01-02   \n",
       "4                     Absolutely love, love, love it!!       1  2017-09-20   \n",
       "..                                                 ...     ...         ...   \n",
       "259  Bought this for my parents. They said it was a...       0  2017-07-28   \n",
       "260  Best tasteing and defenetly the smoothest arou...       1  2017-09-20   \n",
       "261  Not personally into pre made mixes, but bought...       1  2017-08-15   \n",
       "262                                Taste Great portion       1  2017-09-20   \n",
       "263  Does not taste like habaneros what so ever. Ve...       0  2017-08-05   \n",
       "\n",
       "    review_time  \n",
       "0      07:00:09  \n",
       "1      04:28:58  \n",
       "2      00:02:24  \n",
       "3      20:20:01  \n",
       "4      01:18:35  \n",
       "..          ...  \n",
       "259    12:38:56  \n",
       "260    01:18:35  \n",
       "261    03:05:22  \n",
       "262    01:18:35  \n",
       "263    04:28:58  \n",
       "\n",
       "[264 rows x 4 columns]"
      ]
     },
     "execution_count": 308,
     "metadata": {},
     "output_type": "execute_result"
    }
   ],
   "source": [
    "# reviews\n",
    "d_p = r'^20[0-9]{2}\\-[0-9]{2}\\-[0-9]{2}' #date\n",
    "t_p = r'[0-9]{2}\\:[0-9]{2}\\:[0-9]{2}' #Time\n",
    "dateAndTime = r'20[0-9]{2}\\-[0-9]{2}\\-[0-9]{2}T[0-9]{2}\\:[0-9]{2}\\:[0-9]{2}Z'\n",
    "size = 264\n",
    "removed = []\n",
    "review_date = []\n",
    "review_time = []\n",
    "for i in range(size):\n",
    "    review_date.append(re.findall(d_p,str(reviews['review'][i]))[0])\n",
    "    removed.append(str(re.sub(dateAndTime,\"\",str(reviews['review'][i]))).strip())\n",
    "    review_time.append(re.findall(t_p,str(reviews['review'][i]))[0])\n",
    "    \n",
    "views = pd.DataFrame(list(removed))\n",
    "review_date = pd.DataFrame(review_date) \n",
    "review_time = pd.DataFrame(review_time)\n",
    "\n",
    "reviews['review'] = views[0]\n",
    "reviews['review_date'] = review_date[0]\n",
    "reviews['review_time'] = review_time[0]\n",
    "reviews"
   ]
  },
  {
   "cell_type": "code",
   "execution_count": 203,
   "id": "dd5a46a9",
   "metadata": {
    "deletable": false,
    "editable": false
   },
   "outputs": [
    {
     "data": {
      "text/html": [
       "<p><strong><pre style='display: inline;'>q8</pre></strong> passed!</p>"
      ],
      "text/plain": [
       "q8 results: All test cases passed!"
      ]
     },
     "execution_count": 203,
     "metadata": {},
     "output_type": "execute_result"
    }
   ],
   "source": [
    "grader.check(\"q8\")"
   ]
  },
  {
   "cell_type": "markdown",
   "id": "a3fe5233",
   "metadata": {
    "deletable": false,
    "editable": false
   },
   "source": [
    "### Question 9 - Remove noise [2]\n",
    "\n",
    "Use python string methods and regular expressions to remove the following noise in the review column of the reviews data set,\n",
    "\n",
    "- set the case of the data set to lower case.\n",
    "- remove punctuation from the reviews.\n",
    "- remove extra whitespaces from the reviews.\n",
    "- Add a column 'clean_review' containing the clean, pre-processed reviews.\n",
    "\n",
    "<!--\n",
    "BEGIN QUESTION\n",
    "name: q9\n",
    "points: \n",
    "    each: 2\n",
    "-->"
   ]
  },
  {
   "cell_type": "code",
   "execution_count": 309,
   "id": "6146cc19",
   "metadata": {},
   "outputs": [
    {
     "data": {
      "text/html": [
       "<div>\n",
       "<style scoped>\n",
       "    .dataframe tbody tr th:only-of-type {\n",
       "        vertical-align: middle;\n",
       "    }\n",
       "\n",
       "    .dataframe tbody tr th {\n",
       "        vertical-align: top;\n",
       "    }\n",
       "\n",
       "    .dataframe thead th {\n",
       "        text-align: right;\n",
       "    }\n",
       "</style>\n",
       "<table border=\"1\" class=\"dataframe\">\n",
       "  <thead>\n",
       "    <tr style=\"text-align: right;\">\n",
       "      <th></th>\n",
       "      <th>review</th>\n",
       "      <th>rating</th>\n",
       "      <th>review_date</th>\n",
       "      <th>review_time</th>\n",
       "      <th>clean_review</th>\n",
       "    </tr>\n",
       "  </thead>\n",
       "  <tbody>\n",
       "    <tr>\n",
       "      <th>0</th>\n",
       "      <td>It's really smooth but the taste isn't so good...</td>\n",
       "      <td>0</td>\n",
       "      <td>2017-09-02</td>\n",
       "      <td>07:00:09</td>\n",
       "      <td>it s really smooth but the taste isn t so good...</td>\n",
       "    </tr>\n",
       "    <tr>\n",
       "      <th>1</th>\n",
       "      <td>Is ok..need more intense on flavor. I am a bit...</td>\n",
       "      <td>0</td>\n",
       "      <td>2017-08-05</td>\n",
       "      <td>04:28:58</td>\n",
       "      <td>is ok need more intense on flavor i am a bit d...</td>\n",
       "    </tr>\n",
       "    <tr>\n",
       "      <th>2</th>\n",
       "      <td>I would give one more star if it came clean on...</td>\n",
       "      <td>0</td>\n",
       "      <td>2017-12-15</td>\n",
       "      <td>00:02:24</td>\n",
       "      <td>i would give one more star if it came clean on...</td>\n",
       "    </tr>\n",
       "    <tr>\n",
       "      <th>3</th>\n",
       "      <td>Definitely not worth the hassle, don't waste y...</td>\n",
       "      <td>0</td>\n",
       "      <td>2018-01-02</td>\n",
       "      <td>20:20:01</td>\n",
       "      <td>definitely not worth the hassle don t waste yo...</td>\n",
       "    </tr>\n",
       "    <tr>\n",
       "      <th>4</th>\n",
       "      <td>Absolutely love, love, love it!!</td>\n",
       "      <td>1</td>\n",
       "      <td>2017-09-20</td>\n",
       "      <td>01:18:35</td>\n",
       "      <td>absolutely love love love it</td>\n",
       "    </tr>\n",
       "    <tr>\n",
       "      <th>...</th>\n",
       "      <td>...</td>\n",
       "      <td>...</td>\n",
       "      <td>...</td>\n",
       "      <td>...</td>\n",
       "      <td>...</td>\n",
       "    </tr>\n",
       "    <tr>\n",
       "      <th>259</th>\n",
       "      <td>Bought this for my parents. They said it was a...</td>\n",
       "      <td>0</td>\n",
       "      <td>2017-07-28</td>\n",
       "      <td>12:38:56</td>\n",
       "      <td>bought this for my parents they said it was aw...</td>\n",
       "    </tr>\n",
       "    <tr>\n",
       "      <th>260</th>\n",
       "      <td>Best tasteing and defenetly the smoothest arou...</td>\n",
       "      <td>1</td>\n",
       "      <td>2017-09-20</td>\n",
       "      <td>01:18:35</td>\n",
       "      <td>best tasteing and defenetly the smoothest arou...</td>\n",
       "    </tr>\n",
       "    <tr>\n",
       "      <th>261</th>\n",
       "      <td>Not personally into pre made mixes, but bought...</td>\n",
       "      <td>1</td>\n",
       "      <td>2017-08-15</td>\n",
       "      <td>03:05:22</td>\n",
       "      <td>not personally into pre made mixes but bought ...</td>\n",
       "    </tr>\n",
       "    <tr>\n",
       "      <th>262</th>\n",
       "      <td>Taste Great portion</td>\n",
       "      <td>1</td>\n",
       "      <td>2017-09-20</td>\n",
       "      <td>01:18:35</td>\n",
       "      <td>taste great portion</td>\n",
       "    </tr>\n",
       "    <tr>\n",
       "      <th>263</th>\n",
       "      <td>Does not taste like habaneros what so ever. Ve...</td>\n",
       "      <td>0</td>\n",
       "      <td>2017-08-05</td>\n",
       "      <td>04:28:58</td>\n",
       "      <td>does not taste like habaneros what so ever ver...</td>\n",
       "    </tr>\n",
       "  </tbody>\n",
       "</table>\n",
       "<p>264 rows × 5 columns</p>\n",
       "</div>"
      ],
      "text/plain": [
       "                                                review  rating review_date  \\\n",
       "0    It's really smooth but the taste isn't so good...       0  2017-09-02   \n",
       "1    Is ok..need more intense on flavor. I am a bit...       0  2017-08-05   \n",
       "2    I would give one more star if it came clean on...       0  2017-12-15   \n",
       "3    Definitely not worth the hassle, don't waste y...       0  2018-01-02   \n",
       "4                     Absolutely love, love, love it!!       1  2017-09-20   \n",
       "..                                                 ...     ...         ...   \n",
       "259  Bought this for my parents. They said it was a...       0  2017-07-28   \n",
       "260  Best tasteing and defenetly the smoothest arou...       1  2017-09-20   \n",
       "261  Not personally into pre made mixes, but bought...       1  2017-08-15   \n",
       "262                                Taste Great portion       1  2017-09-20   \n",
       "263  Does not taste like habaneros what so ever. Ve...       0  2017-08-05   \n",
       "\n",
       "    review_time                                       clean_review  \n",
       "0      07:00:09  it s really smooth but the taste isn t so good...  \n",
       "1      04:28:58  is ok need more intense on flavor i am a bit d...  \n",
       "2      00:02:24  i would give one more star if it came clean on...  \n",
       "3      20:20:01  definitely not worth the hassle don t waste yo...  \n",
       "4      01:18:35                       absolutely love love love it  \n",
       "..          ...                                                ...  \n",
       "259    12:38:56  bought this for my parents they said it was aw...  \n",
       "260    01:18:35  best tasteing and defenetly the smoothest arou...  \n",
       "261    03:05:22  not personally into pre made mixes but bought ...  \n",
       "262    01:18:35                                taste great portion  \n",
       "263    04:28:58  does not taste like habaneros what so ever ver...  \n",
       "\n",
       "[264 rows x 5 columns]"
      ]
     },
     "execution_count": 309,
     "metadata": {},
     "output_type": "execute_result"
    }
   ],
   "source": [
    "review_text\n",
    "size = 264\n",
    "w = r'[^\\w\\s]'\n",
    "d = []\n",
    "t = []\n",
    "for i in range(size):\n",
    "    reviews['review'][i].lower()\n",
    "    d.append(re.sub(w,\" \",str(reviews['review'][i])).lower())\n",
    "    \n",
    "clean_review = pd.DataFrame(d)\n",
    "for i in range(size):\n",
    "      clean_review[0][i]=re.sub(r' +',' ',str(clean_review[0][i]).strip())\n",
    "reviews['clean_review'] = clean_review[0]\n",
    "reviews"
   ]
  },
  {
   "cell_type": "code",
   "execution_count": 290,
   "id": "50169caf",
   "metadata": {
    "deletable": false,
    "editable": false
   },
   "outputs": [
    {
     "data": {
      "text/html": [
       "<p><strong><pre style='display: inline;'>q9</pre></strong> passed!</p>"
      ],
      "text/plain": [
       "q9 results: All test cases passed!"
      ]
     },
     "execution_count": 290,
     "metadata": {},
     "output_type": "execute_result"
    }
   ],
   "source": [
    "grader.check(\"q9\")"
   ]
  },
  {
   "cell_type": "markdown",
   "id": "9891d567",
   "metadata": {
    "deletable": false,
    "editable": false
   },
   "source": [
    "### Question 10 - Bag-of-Words vectorization [2]\n",
    "\n",
    "- Use the CountVectorizer module from sklearn and define an instance matrix named 'matrix'\n",
    "- Use the instance matrix to tokenize and count the word occurrences of the reviews. Assign this tokenization to the variable 'X'.\n",
    "- From inspecting 'X', what is the vocabulary size? Assign this number to the variable 'vocab_size'\n",
    "- From inspecting X, what is the total word count in the corpus? Assign this number to the variable 'word_count'\n",
    "\n",
    "**Note**: Use the clean_review column.\n",
    "\n",
    "<!--\n",
    "BEGIN QUESTION\n",
    "name: q10\n",
    "points: \n",
    "    each: 1\n",
    "-->"
   ]
  },
  {
   "cell_type": "code",
   "execution_count": 310,
   "id": "418181ce",
   "metadata": {},
   "outputs": [
    {
     "name": "stdout",
     "output_type": "stream",
     "text": [
      "1850\n"
     ]
    }
   ],
   "source": [
    "matrix = CountVectorizer()\n",
    "X = matrix.fit_transform(reviews['clean_review'])\n",
    "vocab_size = (matrix.vocabulary_.values()).__len__()\n",
    "word_count = X.toarray()\n",
    "word_count = word_count.sum(axis=0).sum()\n",
    "print(vocab_size)"
   ]
  },
  {
   "cell_type": "code",
   "execution_count": 320,
   "id": "5df6379e",
   "metadata": {
    "deletable": false,
    "editable": false
   },
   "outputs": [
    {
     "data": {
      "text/html": [
       "<p><strong><pre style='display: inline;'>q10</pre></strong> passed!</p>"
      ],
      "text/plain": [
       "q10 results: All test cases passed!"
      ]
     },
     "execution_count": 320,
     "metadata": {},
     "output_type": "execute_result"
    }
   ],
   "source": [
    "grader.check(\"q10\")"
   ]
  },
  {
   "cell_type": "markdown",
   "id": "efd4efbe",
   "metadata": {
    "deletable": false,
    "editable": false
   },
   "source": [
    "### Question 11 - Get the word frequency [4]\n",
    "\n",
    "Once fitted, use the feature indices\n",
    "\n",
    "- Make a list of all of the unique words in the vocabulary. Call this list 'unique_words'\n",
    "- What is the 118th word in 'unique_words'? Assign this to the variable 'word_118'\n",
    "- What is the index of the word 'friend'? Assign this to the variable 'friend_index'\n",
    "\n",
    "Remember, X is the bag-of-words representation of the corpus.\n",
    "- Convert X to an array using the to_array function. Assign this array to 'X_array'\n",
    "- Sum across the x-axis in order to get the word frequencies. Assign this list to the variable 'sum_words'\n",
    "- What is the frequency of the word 'friend'? Assign this to the variable 'friend_freq'\n",
    "\n",
    "**Note**: Use the clean_review column.  \n",
    "**Hint**: Remember, Python indexing starts at 0.\n",
    "\n",
    "<!--\n",
    "BEGIN QUESTION\n",
    "name: q11\n",
    "points: \n",
    "    each: 1\n",
    "-->"
   ]
  },
  {
   "cell_type": "code",
   "execution_count": 311,
   "id": "dc28482b",
   "metadata": {},
   "outputs": [],
   "source": [
    "unique_words = list((matrix.get_feature_names()))\n",
    "word_118 = unique_words[117]\n",
    "friend_index = unique_words.index(\"friend\")\n",
    "\n",
    "X_array = X.toarray()\n",
    "sum_words = X_array.sum(axis=0)\n",
    "friend_freq = sum_words[friend_index]\n"
   ]
  },
  {
   "cell_type": "code",
   "execution_count": 350,
   "id": "d022d678",
   "metadata": {
    "deletable": false,
    "editable": false
   },
   "outputs": [
    {
     "data": {
      "text/html": [
       "<p><strong><pre style='display: inline;'>q11</pre></strong> passed!</p>"
      ],
      "text/plain": [
       "q11 results: All test cases passed!"
      ]
     },
     "execution_count": 350,
     "metadata": {},
     "output_type": "execute_result"
    }
   ],
   "source": [
    "grader.check(\"q11\")"
   ]
  },
  {
   "cell_type": "markdown",
   "id": "7093423a",
   "metadata": {
    "deletable": false,
    "editable": false
   },
   "source": [
    "### Question 12 - Write a function to find the top 15 non-stopword features in 'unique_words' [3]\n",
    "\n",
    "- Function name: top_15_features  \n",
    "- Input: review  \n",
    "- Output: A list of tuples where the first tuple item is the word and the second tuple item is the frequency. Call this list 'top_15'\n",
    "\n",
    "**Note**: Use the clean_review column. \n",
    "\n",
    "<!--\n",
    "BEGIN QUESTION\n",
    "name: q12\n",
    "points: \n",
    "    each: 1\n",
    "-->"
   ]
  },
  {
   "cell_type": "code",
   "execution_count": 316,
   "id": "e385dadb",
   "metadata": {},
   "outputs": [],
   "source": [
    "def top_15_features():\n",
    "    for i in range(264):\n",
    "        word_tokens.append(word_tokenize(str(reviews['clean_review'][i])))\n",
    "    flat_list = [item for sublist in word_tokens for item in sublist]\n",
    "    stop_word = set(stopwords.words('english'))\n",
    "    filtered_sentence = [w for w in flat_list if w not in stop_word]\n",
    "    word_counter = Counter(filtered_sentence)\n",
    "    top_15 = word_counter.most_common(15)\n",
    "    return top_15\n",
    "top_15 = top_15_features()"
   ]
  },
  {
   "cell_type": "code",
   "execution_count": 314,
   "id": "86f73474",
   "metadata": {
    "deletable": false,
    "editable": false
   },
   "outputs": [
    {
     "data": {
      "text/html": [
       "<p><strong><pre style='display: inline;'>q12</pre></strong> passed!</p>"
      ],
      "text/plain": [
       "q12 results: All test cases passed!"
      ]
     },
     "execution_count": 314,
     "metadata": {},
     "output_type": "execute_result"
    }
   ],
   "source": [
    "grader.check(\"q12\")"
   ]
  },
  {
   "cell_type": "markdown",
   "id": "8de14138",
   "metadata": {
    "deletable": false,
    "editable": false
   },
   "source": [
    "<!-- BEGIN QUESTION -->\n",
    "\n",
    "### Question 13 - Plot the top 15 non-stopword features as a bar plot [3]\n",
    "\n",
    "- Rotate the x-axis in order for the words not to overlap\n",
    "- Provide an appropriate title\n",
    "\n",
    "<!--\n",
    "BEGIN QUESTION\n",
    "name: q13\n",
    "manual: true\n",
    "points: 3\n",
    "-->"
   ]
  },
  {
   "cell_type": "code",
   "execution_count": 1,
   "id": "9f61d6a8",
   "metadata": {},
   "outputs": [
    {
     "ename": "NameError",
     "evalue": "name 'pd' is not defined",
     "output_type": "error",
     "traceback": [
      "\u001b[1;31m---------------------------------------------------------------------------\u001b[0m",
      "\u001b[1;31mNameError\u001b[0m                                 Traceback (most recent call last)",
      "\u001b[1;32m<ipython-input-1-7b6f7bf50f2f>\u001b[0m in \u001b[0;36m<module>\u001b[1;34m\u001b[0m\n\u001b[1;32m----> 1\u001b[1;33m \u001b[0mtop_15\u001b[0m \u001b[1;33m=\u001b[0m \u001b[0mpd\u001b[0m\u001b[1;33m.\u001b[0m\u001b[0mDataFrame\u001b[0m\u001b[1;33m(\u001b[0m\u001b[0mtop_15\u001b[0m\u001b[1;33m,\u001b[0m\u001b[0mcolumns\u001b[0m \u001b[1;33m=\u001b[0m \u001b[1;33m[\u001b[0m\u001b[1;34m'word'\u001b[0m\u001b[1;33m,\u001b[0m\u001b[1;34m'count'\u001b[0m\u001b[1;33m]\u001b[0m\u001b[1;33m)\u001b[0m\u001b[1;33m\u001b[0m\u001b[1;33m\u001b[0m\u001b[0m\n\u001b[0m\u001b[0;32m      2\u001b[0m \u001b[0mplt\u001b[0m\u001b[1;33m.\u001b[0m\u001b[0mbar\u001b[0m\u001b[1;33m(\u001b[0m\u001b[0mtop_15\u001b[0m\u001b[1;33m[\u001b[0m\u001b[1;34m'count'\u001b[0m\u001b[1;33m]\u001b[0m\u001b[1;33m,\u001b[0m\u001b[0mtop_15\u001b[0m\u001b[1;33m[\u001b[0m\u001b[1;34m'word'\u001b[0m\u001b[1;33m]\u001b[0m\u001b[1;33m)\u001b[0m\u001b[1;33m\u001b[0m\u001b[1;33m\u001b[0m\u001b[0m\n\u001b[0;32m      3\u001b[0m \u001b[0mplt\u001b[0m\u001b[1;33m.\u001b[0m\u001b[0mtitle\u001b[0m\u001b[1;33m(\u001b[0m\u001b[1;34m\"Top 15 non-stopword features\"\u001b[0m\u001b[1;33m)\u001b[0m\u001b[1;33m\u001b[0m\u001b[1;33m\u001b[0m\u001b[0m\n\u001b[0;32m      4\u001b[0m \u001b[0mplt\u001b[0m\u001b[1;33m.\u001b[0m\u001b[0mshow\u001b[0m\u001b[1;33m(\u001b[0m\u001b[1;33m)\u001b[0m\u001b[1;33m\u001b[0m\u001b[1;33m\u001b[0m\u001b[0m\n",
      "\u001b[1;31mNameError\u001b[0m: name 'pd' is not defined"
     ]
    }
   ],
   "source": [
    "top_15 = pd.DataFrame(top_15,columns = ['word','count'])\n",
    "plt.bar(top_15['count'],top_15['word'])\n",
    "plt.title(\"Top 15 non-stopword features\")\n",
    "plt.show()"
   ]
  },
  {
   "cell_type": "markdown",
   "id": "5168bb2e",
   "metadata": {
    "deletable": false,
    "editable": false
   },
   "source": [
    "<!-- END QUESTION -->\n",
    "\n",
    "<!-- BEGIN QUESTION -->\n",
    "\n",
    "### Question 14a - Plot a wordcloud for review_0 [3]\n",
    "\n",
    "- Plot a wordcloud for the review_0 data given below.\n",
    "- Use the image 'wine1.png' to add a mask to each wordcloud\n",
    "- Change the mask color to match the colors in the image (use the ImageColorGenerator module from the wordcloud package)\n",
    "- Use randomstate = 13\n",
    "\n",
    "**Note**: Use the clean_review column. \n",
    "\n",
    "<!--\n",
    "BEGIN QUESTION\n",
    "name: q14a\n",
    "manual: true\n",
    "points: 3\n",
    "-->"
   ]
  },
  {
   "cell_type": "code",
   "execution_count": 276,
   "id": "00372c59",
   "metadata": {},
   "outputs": [
    {
     "data": {
      "image/png": "[encoded data removed]",
      "text/plain": [
       "<Figure size 720x720 with 1 Axes>"
      ]
     },
     "metadata": {
      "needs_background": "light"
     },
     "output_type": "display_data"
    }
   ],
   "source": [
    "review_0 = (reviews['rating'] == 0)\n",
    "review_0 = reviews[review_0]\n",
    "review_0 = pd.DataFrame(review_0)\n",
    "from wordcloud import ImageColorGenerator\n",
    "pic = np.array(Image.open(\"wine1.png\"))\n",
    "wordcloud_sw = WordCloud(background_color = \"white\",mask = pic, random_state=13).generate(str(review_0['clean_review']))\n",
    "\n",
    "image_colors = ImageColorGenerator(pic)\n",
    "\n",
    "plt.figure(figsize = (10,10))\n",
    "plt.imshow(wordcloud_sw.recolor(color_func=image_colors), interpolation = \"bilinear\")\n",
    "plt.axis(\"off\")\n",
    "plt.show()"
   ]
  },
  {
   "cell_type": "markdown",
   "id": "16d6e1c6",
   "metadata": {
    "deletable": false,
    "editable": false
   },
   "source": [
    "<!-- END QUESTION -->\n",
    "\n",
    "<!-- BEGIN QUESTION -->\n",
    "\n",
    "### Question 14b - Plot a wordcloud for review_1 [3]\n",
    "\n",
    "- Plot a wordcloud for the review_1 data given below.\n",
    "- Use the image 'wine1.png' to add a mask to each wordcloud\n",
    "- Change the mask color to match the colors in the image (use the ImageColorGenerator module from the wordcloud package)\n",
    "- Use randomstate = 13\n",
    "\n",
    "**Note**: Use the clean_review column. \n",
    "\n",
    "<!--\n",
    "BEGIN QUESTION\n",
    "name: q14b\n",
    "manual: true\n",
    "points: 3\n",
    "-->"
   ]
  },
  {
   "cell_type": "code",
   "execution_count": 277,
   "id": "61e592af",
   "metadata": {},
   "outputs": [
    {
     "data": {
      "image/png": "[encoded data removed]",
      "text/plain": [
       "<Figure size 720x720 with 1 Axes>"
      ]
     },
     "metadata": {
      "needs_background": "light"
     },
     "output_type": "display_data"
    }
   ],
   "source": [
    "review_1 = (reviews['rating'] == 1)\n",
    "review_1 = reviews[review_1]\n",
    "review_1 = pd.DataFrame(review_1)\n",
    "\n",
    "pic = np.array(Image.open(\"wine1.png\"))\n",
    "wordcloud_sw = WordCloud(background_color = \"white\",mask = pic, random_state=13).generate(str(review_1['clean_review']))\n",
    "\n",
    "image_colors = ImageColorGenerator(pic)\n",
    "\n",
    "plt.figure(figsize = (10,10))\n",
    "plt.imshow(wordcloud_sw.recolor(color_func=image_colors), interpolation = \"bilinear\")\n",
    "plt.axis(\"off\")\n",
    "plt.show()"
   ]
  },
  {
   "cell_type": "markdown",
   "id": "37d0dcc7",
   "metadata": {
    "deletable": false,
    "editable": false
   },
   "source": [
    "<!-- END QUESTION -->\n",
    "\n",
    "<!-- BEGIN QUESTION -->\n",
    "\n",
    "### Question 14c [1]\n",
    "\n",
    "- Use the wordclouds obtained in Question 14a and b and compare the information obtained from each wordcloud.\n",
    "\n",
    "**Hint**: What do you notice?\n",
    "\n",
    "<!--\n",
    "BEGIN QUESTION\n",
    "name: q14c\n",
    "manual: true\n",
    "points: 2\n",
    "-->"
   ]
  },
  {
   "cell_type": "markdown",
   "id": "83295f68",
   "metadata": {},
   "source": [
    "Rating_1 the word \"LOVE\" is frequent and in Rating_0 the word \"TASTE\" is frequent.  "
   ]
  },
  {
   "cell_type": "markdown",
   "id": "53187738",
   "metadata": {
    "deletable": false,
    "editable": false
   },
   "source": [
    "---\n",
    "\n",
    "To double-check your work, the cell below will rerun all of the autograder tests."
   ]
  },
  {
   "cell_type": "code",
   "execution_count": 293,
   "id": "e131bc2a",
   "metadata": {
    "deletable": false,
    "editable": false
   },
   "outputs": [
    {
     "data": {
      "text/html": [
       "<p><strong><pre style='display: inline;'>q1</pre></strong> passed!</p>\n",
       "\n",
       "<p><strong><pre style='display: inline;'>q10</pre></strong> passed!</p>\n",
       "\n",
       "<p><strong><pre style='display: inline;'>q11</pre></strong> passed!</p>\n",
       "\n",
       "<p><strong><pre style='display: inline;'>q12</pre></strong> passed!</p>\n",
       "\n",
       "<p><strong><pre style='display: inline;'>q2a</pre></strong> passed!</p>\n",
       "\n",
       "<p><strong><pre style='display: inline;'>q2b</pre></strong> passed!</p>\n",
       "\n",
       "<p><strong><pre style='display: inline;'>q3</pre></strong> passed!</p>\n",
       "\n",
       "<p><strong><pre style='display: inline;'>q4a</pre></strong> passed!</p>\n",
       "\n",
       "<p><strong><pre style='display: inline;'>q4b</pre></strong> passed!</p>\n",
       "\n",
       "<p><strong><pre style='display: inline;'>q5</pre></strong> passed!</p>\n",
       "\n",
       "<p><strong><pre style='display: inline;'>q6</pre></strong> passed!</p>\n",
       "\n",
       "<p><strong><pre style='display: inline;'>q7</pre></strong> passed!</p>\n",
       "\n",
       "<p><strong><pre style='display: inline;'>q8</pre></strong> passed!</p>\n",
       "\n",
       "<p><strong><pre style='display: inline;'>q9</pre></strong> passed!</p>\n",
       "\n"
      ],
      "text/plain": [
       "q1 results: All test cases passed!\n",
       "\n",
       "q10 results: All test cases passed!\n",
       "\n",
       "q11 results: All test cases passed!\n",
       "\n",
       "q12 results: All test cases passed!\n",
       "\n",
       "q2a results: All test cases passed!\n",
       "\n",
       "q2b results: All test cases passed!\n",
       "\n",
       "q3 results: All test cases passed!\n",
       "\n",
       "q4a results: All test cases passed!\n",
       "\n",
       "q4b results: All test cases passed!\n",
       "\n",
       "q5 results: All test cases passed!\n",
       "\n",
       "q6 results: All test cases passed!\n",
       "\n",
       "q7 results: All test cases passed!\n",
       "\n",
       "q8 results: All test cases passed!\n",
       "\n",
       "q9 results: All test cases passed!\n"
      ]
     },
     "execution_count": 293,
     "metadata": {},
     "output_type": "execute_result"
    }
   ],
   "source": [
    "grader.check_all()"
   ]
  },
  {
   "cell_type": "markdown",
   "id": "12babd30",
   "metadata": {
    "deletable": false,
    "editable": false
   },
   "source": [
    "## Submission\n",
    "\n",
    "Make sure you have run all cells in your notebook in order before running the cell below, so that all images/graphs appear in the output. The cell below will generate a zip file for you to submit. **Please save before exporting!**"
   ]
  },
  {
   "cell_type": "code",
   "execution_count": 294,
   "id": "67c0d8be",
   "metadata": {
    "deletable": false,
    "editable": false
   },
   "outputs": [
    {
     "data": {
      "text/html": [
       "\n",
       "                <p>Your submission has been exported. Click <a href=\"assignment_5_2021_10_28T16_52_35_635847.zip\" target=\"_blank\">here</a>\n",
       "                to download the zip file.</p>\n",
       "                "
      ],
      "text/plain": [
       "<IPython.core.display.HTML object>"
      ]
     },
     "metadata": {},
     "output_type": "display_data"
    }
   ],
   "source": [
    "# Save your notebook first, then run this cell to export your submission.\n",
    "grader.export(pdf=False)"
   ]
  },
  {
   "cell_type": "markdown",
   "id": "96159821",
   "metadata": {},
   "source": [
    " "
   ]
  }
 ],
 "metadata": {
  "celltoolbar": "Edit Metadata",
  "kernelspec": {
   "display_name": "Python 3",
   "language": "python",
   "name": "python3"
  },
  "language_info": {
   "codemirror_mode": {
    "name": "ipython",
    "version": 3
   },
   "file_extension": ".py",
   "mimetype": "text/x-python",
   "name": "python",
   "nbconvert_exporter": "python",
   "pygments_lexer": "ipython3",
   "version": "3.8.11"
  }
 },
 "nbformat": 4,
 "nbformat_minor": 5
}
